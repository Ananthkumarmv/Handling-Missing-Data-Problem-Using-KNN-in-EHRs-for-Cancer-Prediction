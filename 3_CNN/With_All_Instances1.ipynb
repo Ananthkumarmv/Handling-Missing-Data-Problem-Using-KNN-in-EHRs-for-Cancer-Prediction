{
  "nbformat": 4,
  "nbformat_minor": 5,
  "metadata": {
    "kernelspec": {
      "display_name": "Python 3",
      "language": "python",
      "name": "python3"
    },
    "language_info": {
      "codemirror_mode": {
        "name": "ipython",
        "version": 3
      },
      "file_extension": ".py",
      "mimetype": "text/x-python",
      "name": "python",
      "nbconvert_exporter": "python",
      "pygments_lexer": "ipython3",
      "version": "3.8.8"
    },
    "colab": {
      "name": "With_All_Instances.ipynb",
      "provenance": [],
      "collapsed_sections": []
    }
  },
  "cells": [
    {
      "cell_type": "code",
      "metadata": {
        "id": "50605a6e"
      },
      "source": [
        "import tensorflow as tf\n",
        "from tensorflow import keras\n",
        "from tensorflow.keras import Sequential\n",
        "from tensorflow.keras.layers import Flatten, Dense, Dropout, BatchNormalization\n",
        "from tensorflow.keras.layers import Conv1D, MaxPool1D\n",
        "from tensorflow.keras.optimizers import Adam"
      ],
      "id": "50605a6e",
      "execution_count": null,
      "outputs": []
    },
    {
      "cell_type": "code",
      "metadata": {
        "id": "61149085"
      },
      "source": [
        "import pandas as pd\n",
        "import numpy as np\n",
        "import seaborn as sns\n",
        "import matplotlib.pyplot as plt"
      ],
      "id": "61149085",
      "execution_count": null,
      "outputs": []
    },
    {
      "cell_type": "code",
      "metadata": {
        "id": "9aaefb33"
      },
      "source": [
        "from sklearn import datasets, metrics\n",
        "from sklearn.model_selection import train_test_split\n",
        "from sklearn.preprocessing import StandardScaler"
      ],
      "id": "9aaefb33",
      "execution_count": null,
      "outputs": []
    },
    {
      "cell_type": "code",
      "metadata": {
        "id": "1783a6d4"
      },
      "source": [
        "cancer_dataset = pd.read_csv('/content/dataset.csv')"
      ],
      "id": "1783a6d4",
      "execution_count": null,
      "outputs": []
    },
    {
      "cell_type": "code",
      "metadata": {
        "colab": {
          "base_uri": "https://localhost:8080/"
        },
        "id": "75e9c063",
        "outputId": "7c272874-27df-4202-d2a9-c19146c05c99"
      },
      "source": [
        "print(cancer_dataset.info())"
      ],
      "id": "75e9c063",
      "execution_count": null,
      "outputs": [
        {
          "output_type": "stream",
          "name": "stdout",
          "text": [
            "<class 'pandas.core.frame.DataFrame'>\n",
            "RangeIndex: 569 entries, 0 to 568\n",
            "Data columns (total 32 columns):\n",
            " #   Column                   Non-Null Count  Dtype  \n",
            "---  ------                   --------------  -----  \n",
            " 0   id                       569 non-null    int64  \n",
            " 1   diagnosis                569 non-null    object \n",
            " 2   radius_mean              569 non-null    float64\n",
            " 3   texture_mean             569 non-null    float64\n",
            " 4   perimeter_mean           569 non-null    float64\n",
            " 5   area_mean                569 non-null    float64\n",
            " 6   smoothness_mean          569 non-null    float64\n",
            " 7   compactness_mean         569 non-null    float64\n",
            " 8   concavity_mean           569 non-null    float64\n",
            " 9   concave points_mean      569 non-null    float64\n",
            " 10  symmetry_mean            569 non-null    float64\n",
            " 11  fractal_dimension_mean   569 non-null    float64\n",
            " 12  radius_se                569 non-null    float64\n",
            " 13  texture_se               569 non-null    float64\n",
            " 14  perimeter_se             569 non-null    float64\n",
            " 15  area_se                  569 non-null    float64\n",
            " 16  smoothness_se            569 non-null    float64\n",
            " 17  compactness_se           569 non-null    float64\n",
            " 18  concavity_se             569 non-null    float64\n",
            " 19  concave points_se        569 non-null    float64\n",
            " 20  symmetry_se              569 non-null    float64\n",
            " 21  fractal_dimension_se     569 non-null    float64\n",
            " 22  radius_worst             569 non-null    float64\n",
            " 23  texture_worst            569 non-null    float64\n",
            " 24  perimeter_worst          569 non-null    float64\n",
            " 25  area_worst               569 non-null    float64\n",
            " 26  smoothness_worst         569 non-null    float64\n",
            " 27  compactness_worst        569 non-null    float64\n",
            " 28  concavity_worst          569 non-null    float64\n",
            " 29  concave points_worst     569 non-null    float64\n",
            " 30  symmetry_worst           569 non-null    float64\n",
            " 31  fractal_dimension_worst  569 non-null    float64\n",
            "dtypes: float64(30), int64(1), object(1)\n",
            "memory usage: 142.4+ KB\n",
            "None\n"
          ]
        }
      ]
    },
    {
      "cell_type": "code",
      "metadata": {
        "id": "3dfcf2c3"
      },
      "source": [
        "cancer_dataset = cancer_dataset.drop(columns='id', axis=1)"
      ],
      "id": "3dfcf2c3",
      "execution_count": null,
      "outputs": []
    },
    {
      "cell_type": "code",
      "metadata": {
        "colab": {
          "base_uri": "https://localhost:8080/",
          "height": 244
        },
        "id": "66ca09a3",
        "outputId": "d0c92e54-2771-4357-ec8d-d932e8ce3c25"
      },
      "source": [
        "cancer_dataset.head()"
      ],
      "id": "66ca09a3",
      "execution_count": null,
      "outputs": [
        {
          "output_type": "execute_result",
          "data": {
            "text/html": [
              "<div>\n",
              "<style scoped>\n",
              "    .dataframe tbody tr th:only-of-type {\n",
              "        vertical-align: middle;\n",
              "    }\n",
              "\n",
              "    .dataframe tbody tr th {\n",
              "        vertical-align: top;\n",
              "    }\n",
              "\n",
              "    .dataframe thead th {\n",
              "        text-align: right;\n",
              "    }\n",
              "</style>\n",
              "<table border=\"1\" class=\"dataframe\">\n",
              "  <thead>\n",
              "    <tr style=\"text-align: right;\">\n",
              "      <th></th>\n",
              "      <th>diagnosis</th>\n",
              "      <th>radius_mean</th>\n",
              "      <th>texture_mean</th>\n",
              "      <th>perimeter_mean</th>\n",
              "      <th>area_mean</th>\n",
              "      <th>smoothness_mean</th>\n",
              "      <th>compactness_mean</th>\n",
              "      <th>concavity_mean</th>\n",
              "      <th>concave points_mean</th>\n",
              "      <th>symmetry_mean</th>\n",
              "      <th>fractal_dimension_mean</th>\n",
              "      <th>radius_se</th>\n",
              "      <th>texture_se</th>\n",
              "      <th>perimeter_se</th>\n",
              "      <th>area_se</th>\n",
              "      <th>smoothness_se</th>\n",
              "      <th>compactness_se</th>\n",
              "      <th>concavity_se</th>\n",
              "      <th>concave points_se</th>\n",
              "      <th>symmetry_se</th>\n",
              "      <th>fractal_dimension_se</th>\n",
              "      <th>radius_worst</th>\n",
              "      <th>texture_worst</th>\n",
              "      <th>perimeter_worst</th>\n",
              "      <th>area_worst</th>\n",
              "      <th>smoothness_worst</th>\n",
              "      <th>compactness_worst</th>\n",
              "      <th>concavity_worst</th>\n",
              "      <th>concave points_worst</th>\n",
              "      <th>symmetry_worst</th>\n",
              "      <th>fractal_dimension_worst</th>\n",
              "    </tr>\n",
              "  </thead>\n",
              "  <tbody>\n",
              "    <tr>\n",
              "      <th>0</th>\n",
              "      <td>M</td>\n",
              "      <td>17.99</td>\n",
              "      <td>10.38</td>\n",
              "      <td>122.80</td>\n",
              "      <td>1001.0</td>\n",
              "      <td>0.11840</td>\n",
              "      <td>0.27760</td>\n",
              "      <td>0.3001</td>\n",
              "      <td>0.14710</td>\n",
              "      <td>0.2419</td>\n",
              "      <td>0.07871</td>\n",
              "      <td>1.0950</td>\n",
              "      <td>0.9053</td>\n",
              "      <td>8.589</td>\n",
              "      <td>153.40</td>\n",
              "      <td>0.006399</td>\n",
              "      <td>0.04904</td>\n",
              "      <td>0.05373</td>\n",
              "      <td>0.01587</td>\n",
              "      <td>0.03003</td>\n",
              "      <td>0.006193</td>\n",
              "      <td>25.38</td>\n",
              "      <td>17.33</td>\n",
              "      <td>184.60</td>\n",
              "      <td>2019.0</td>\n",
              "      <td>0.1622</td>\n",
              "      <td>0.6656</td>\n",
              "      <td>0.7119</td>\n",
              "      <td>0.2654</td>\n",
              "      <td>0.4601</td>\n",
              "      <td>0.11890</td>\n",
              "    </tr>\n",
              "    <tr>\n",
              "      <th>1</th>\n",
              "      <td>M</td>\n",
              "      <td>20.57</td>\n",
              "      <td>17.77</td>\n",
              "      <td>132.90</td>\n",
              "      <td>1326.0</td>\n",
              "      <td>0.08474</td>\n",
              "      <td>0.07864</td>\n",
              "      <td>0.0869</td>\n",
              "      <td>0.07017</td>\n",
              "      <td>0.1812</td>\n",
              "      <td>0.05667</td>\n",
              "      <td>0.5435</td>\n",
              "      <td>0.7339</td>\n",
              "      <td>3.398</td>\n",
              "      <td>74.08</td>\n",
              "      <td>0.005225</td>\n",
              "      <td>0.01308</td>\n",
              "      <td>0.01860</td>\n",
              "      <td>0.01340</td>\n",
              "      <td>0.01389</td>\n",
              "      <td>0.003532</td>\n",
              "      <td>24.99</td>\n",
              "      <td>23.41</td>\n",
              "      <td>158.80</td>\n",
              "      <td>1956.0</td>\n",
              "      <td>0.1238</td>\n",
              "      <td>0.1866</td>\n",
              "      <td>0.2416</td>\n",
              "      <td>0.1860</td>\n",
              "      <td>0.2750</td>\n",
              "      <td>0.08902</td>\n",
              "    </tr>\n",
              "    <tr>\n",
              "      <th>2</th>\n",
              "      <td>M</td>\n",
              "      <td>19.69</td>\n",
              "      <td>21.25</td>\n",
              "      <td>130.00</td>\n",
              "      <td>1203.0</td>\n",
              "      <td>0.10960</td>\n",
              "      <td>0.15990</td>\n",
              "      <td>0.1974</td>\n",
              "      <td>0.12790</td>\n",
              "      <td>0.2069</td>\n",
              "      <td>0.05999</td>\n",
              "      <td>0.7456</td>\n",
              "      <td>0.7869</td>\n",
              "      <td>4.585</td>\n",
              "      <td>94.03</td>\n",
              "      <td>0.006150</td>\n",
              "      <td>0.04006</td>\n",
              "      <td>0.03832</td>\n",
              "      <td>0.02058</td>\n",
              "      <td>0.02250</td>\n",
              "      <td>0.004571</td>\n",
              "      <td>23.57</td>\n",
              "      <td>25.53</td>\n",
              "      <td>152.50</td>\n",
              "      <td>1709.0</td>\n",
              "      <td>0.1444</td>\n",
              "      <td>0.4245</td>\n",
              "      <td>0.4504</td>\n",
              "      <td>0.2430</td>\n",
              "      <td>0.3613</td>\n",
              "      <td>0.08758</td>\n",
              "    </tr>\n",
              "    <tr>\n",
              "      <th>3</th>\n",
              "      <td>M</td>\n",
              "      <td>11.42</td>\n",
              "      <td>20.38</td>\n",
              "      <td>77.58</td>\n",
              "      <td>386.1</td>\n",
              "      <td>0.14250</td>\n",
              "      <td>0.28390</td>\n",
              "      <td>0.2414</td>\n",
              "      <td>0.10520</td>\n",
              "      <td>0.2597</td>\n",
              "      <td>0.09744</td>\n",
              "      <td>0.4956</td>\n",
              "      <td>1.1560</td>\n",
              "      <td>3.445</td>\n",
              "      <td>27.23</td>\n",
              "      <td>0.009110</td>\n",
              "      <td>0.07458</td>\n",
              "      <td>0.05661</td>\n",
              "      <td>0.01867</td>\n",
              "      <td>0.05963</td>\n",
              "      <td>0.009208</td>\n",
              "      <td>14.91</td>\n",
              "      <td>26.50</td>\n",
              "      <td>98.87</td>\n",
              "      <td>567.7</td>\n",
              "      <td>0.2098</td>\n",
              "      <td>0.8663</td>\n",
              "      <td>0.6869</td>\n",
              "      <td>0.2575</td>\n",
              "      <td>0.6638</td>\n",
              "      <td>0.17300</td>\n",
              "    </tr>\n",
              "    <tr>\n",
              "      <th>4</th>\n",
              "      <td>M</td>\n",
              "      <td>20.29</td>\n",
              "      <td>14.34</td>\n",
              "      <td>135.10</td>\n",
              "      <td>1297.0</td>\n",
              "      <td>0.10030</td>\n",
              "      <td>0.13280</td>\n",
              "      <td>0.1980</td>\n",
              "      <td>0.10430</td>\n",
              "      <td>0.1809</td>\n",
              "      <td>0.05883</td>\n",
              "      <td>0.7572</td>\n",
              "      <td>0.7813</td>\n",
              "      <td>5.438</td>\n",
              "      <td>94.44</td>\n",
              "      <td>0.011490</td>\n",
              "      <td>0.02461</td>\n",
              "      <td>0.05688</td>\n",
              "      <td>0.01885</td>\n",
              "      <td>0.01756</td>\n",
              "      <td>0.005115</td>\n",
              "      <td>22.54</td>\n",
              "      <td>16.67</td>\n",
              "      <td>152.20</td>\n",
              "      <td>1575.0</td>\n",
              "      <td>0.1374</td>\n",
              "      <td>0.2050</td>\n",
              "      <td>0.4000</td>\n",
              "      <td>0.1625</td>\n",
              "      <td>0.2364</td>\n",
              "      <td>0.07678</td>\n",
              "    </tr>\n",
              "  </tbody>\n",
              "</table>\n",
              "</div>"
            ],
            "text/plain": [
              "  diagnosis  radius_mean  ...  symmetry_worst  fractal_dimension_worst\n",
              "0         M        17.99  ...          0.4601                  0.11890\n",
              "1         M        20.57  ...          0.2750                  0.08902\n",
              "2         M        19.69  ...          0.3613                  0.08758\n",
              "3         M        11.42  ...          0.6638                  0.17300\n",
              "4         M        20.29  ...          0.2364                  0.07678\n",
              "\n",
              "[5 rows x 31 columns]"
            ]
          },
          "metadata": {},
          "execution_count": 52
        }
      ]
    },
    {
      "cell_type": "code",
      "metadata": {
        "id": "4cfa0c9a"
      },
      "source": [
        ""
      ],
      "id": "4cfa0c9a",
      "execution_count": null,
      "outputs": []
    },
    {
      "cell_type": "code",
      "metadata": {
        "colab": {
          "base_uri": "https://localhost:8080/"
        },
        "id": "7e5cad85",
        "outputId": "3fb9d886-b41c-440e-aa3e-3f06501b08b3"
      },
      "source": [
        "cancer_dataset['diagnosis'].value_counts()"
      ],
      "id": "7e5cad85",
      "execution_count": null,
      "outputs": [
        {
          "output_type": "execute_result",
          "data": {
            "text/plain": [
              "B    357\n",
              "M    212\n",
              "Name: diagnosis, dtype: int64"
            ]
          },
          "metadata": {},
          "execution_count": 53
        }
      ]
    },
    {
      "cell_type": "code",
      "metadata": {
        "id": "5c23611c"
      },
      "source": [
        ""
      ],
      "id": "5c23611c",
      "execution_count": null,
      "outputs": []
    },
    {
      "cell_type": "code",
      "metadata": {
        "colab": {
          "base_uri": "https://localhost:8080/",
          "height": 338
        },
        "id": "b407da90",
        "outputId": "4cb76f76-b7d4-4562-fc79-e9f6e26e08c4"
      },
      "source": [
        "cancer_dataset.describe()"
      ],
      "id": "b407da90",
      "execution_count": null,
      "outputs": [
        {
          "output_type": "execute_result",
          "data": {
            "text/html": [
              "<div>\n",
              "<style scoped>\n",
              "    .dataframe tbody tr th:only-of-type {\n",
              "        vertical-align: middle;\n",
              "    }\n",
              "\n",
              "    .dataframe tbody tr th {\n",
              "        vertical-align: top;\n",
              "    }\n",
              "\n",
              "    .dataframe thead th {\n",
              "        text-align: right;\n",
              "    }\n",
              "</style>\n",
              "<table border=\"1\" class=\"dataframe\">\n",
              "  <thead>\n",
              "    <tr style=\"text-align: right;\">\n",
              "      <th></th>\n",
              "      <th>radius_mean</th>\n",
              "      <th>texture_mean</th>\n",
              "      <th>perimeter_mean</th>\n",
              "      <th>area_mean</th>\n",
              "      <th>smoothness_mean</th>\n",
              "      <th>compactness_mean</th>\n",
              "      <th>concavity_mean</th>\n",
              "      <th>concave points_mean</th>\n",
              "      <th>symmetry_mean</th>\n",
              "      <th>fractal_dimension_mean</th>\n",
              "      <th>radius_se</th>\n",
              "      <th>texture_se</th>\n",
              "      <th>perimeter_se</th>\n",
              "      <th>area_se</th>\n",
              "      <th>smoothness_se</th>\n",
              "      <th>compactness_se</th>\n",
              "      <th>concavity_se</th>\n",
              "      <th>concave points_se</th>\n",
              "      <th>symmetry_se</th>\n",
              "      <th>fractal_dimension_se</th>\n",
              "      <th>radius_worst</th>\n",
              "      <th>texture_worst</th>\n",
              "      <th>perimeter_worst</th>\n",
              "      <th>area_worst</th>\n",
              "      <th>smoothness_worst</th>\n",
              "      <th>compactness_worst</th>\n",
              "      <th>concavity_worst</th>\n",
              "      <th>concave points_worst</th>\n",
              "      <th>symmetry_worst</th>\n",
              "      <th>fractal_dimension_worst</th>\n",
              "    </tr>\n",
              "  </thead>\n",
              "  <tbody>\n",
              "    <tr>\n",
              "      <th>count</th>\n",
              "      <td>569.000000</td>\n",
              "      <td>569.000000</td>\n",
              "      <td>569.000000</td>\n",
              "      <td>569.000000</td>\n",
              "      <td>569.000000</td>\n",
              "      <td>569.000000</td>\n",
              "      <td>569.000000</td>\n",
              "      <td>569.000000</td>\n",
              "      <td>569.000000</td>\n",
              "      <td>569.000000</td>\n",
              "      <td>569.000000</td>\n",
              "      <td>569.000000</td>\n",
              "      <td>569.000000</td>\n",
              "      <td>569.000000</td>\n",
              "      <td>569.000000</td>\n",
              "      <td>569.000000</td>\n",
              "      <td>569.000000</td>\n",
              "      <td>569.000000</td>\n",
              "      <td>569.000000</td>\n",
              "      <td>569.000000</td>\n",
              "      <td>569.000000</td>\n",
              "      <td>569.000000</td>\n",
              "      <td>569.000000</td>\n",
              "      <td>569.000000</td>\n",
              "      <td>569.000000</td>\n",
              "      <td>569.000000</td>\n",
              "      <td>569.000000</td>\n",
              "      <td>569.000000</td>\n",
              "      <td>569.000000</td>\n",
              "      <td>569.000000</td>\n",
              "    </tr>\n",
              "    <tr>\n",
              "      <th>mean</th>\n",
              "      <td>14.127292</td>\n",
              "      <td>19.289649</td>\n",
              "      <td>91.969033</td>\n",
              "      <td>654.889104</td>\n",
              "      <td>0.096360</td>\n",
              "      <td>0.104341</td>\n",
              "      <td>0.088799</td>\n",
              "      <td>0.048919</td>\n",
              "      <td>0.181162</td>\n",
              "      <td>0.062798</td>\n",
              "      <td>0.405172</td>\n",
              "      <td>1.216853</td>\n",
              "      <td>2.866059</td>\n",
              "      <td>40.337079</td>\n",
              "      <td>0.007041</td>\n",
              "      <td>0.025478</td>\n",
              "      <td>0.031894</td>\n",
              "      <td>0.011796</td>\n",
              "      <td>0.020542</td>\n",
              "      <td>0.003795</td>\n",
              "      <td>16.269190</td>\n",
              "      <td>25.677223</td>\n",
              "      <td>107.261213</td>\n",
              "      <td>880.583128</td>\n",
              "      <td>0.132369</td>\n",
              "      <td>0.254265</td>\n",
              "      <td>0.272188</td>\n",
              "      <td>0.114606</td>\n",
              "      <td>0.290076</td>\n",
              "      <td>0.083946</td>\n",
              "    </tr>\n",
              "    <tr>\n",
              "      <th>std</th>\n",
              "      <td>3.524049</td>\n",
              "      <td>4.301036</td>\n",
              "      <td>24.298981</td>\n",
              "      <td>351.914129</td>\n",
              "      <td>0.014064</td>\n",
              "      <td>0.052813</td>\n",
              "      <td>0.079720</td>\n",
              "      <td>0.038803</td>\n",
              "      <td>0.027414</td>\n",
              "      <td>0.007060</td>\n",
              "      <td>0.277313</td>\n",
              "      <td>0.551648</td>\n",
              "      <td>2.021855</td>\n",
              "      <td>45.491006</td>\n",
              "      <td>0.003003</td>\n",
              "      <td>0.017908</td>\n",
              "      <td>0.030186</td>\n",
              "      <td>0.006170</td>\n",
              "      <td>0.008266</td>\n",
              "      <td>0.002646</td>\n",
              "      <td>4.833242</td>\n",
              "      <td>6.146258</td>\n",
              "      <td>33.602542</td>\n",
              "      <td>569.356993</td>\n",
              "      <td>0.022832</td>\n",
              "      <td>0.157336</td>\n",
              "      <td>0.208624</td>\n",
              "      <td>0.065732</td>\n",
              "      <td>0.061867</td>\n",
              "      <td>0.018061</td>\n",
              "    </tr>\n",
              "    <tr>\n",
              "      <th>min</th>\n",
              "      <td>6.981000</td>\n",
              "      <td>9.710000</td>\n",
              "      <td>43.790000</td>\n",
              "      <td>143.500000</td>\n",
              "      <td>0.052630</td>\n",
              "      <td>0.019380</td>\n",
              "      <td>0.000000</td>\n",
              "      <td>0.000000</td>\n",
              "      <td>0.106000</td>\n",
              "      <td>0.049960</td>\n",
              "      <td>0.111500</td>\n",
              "      <td>0.360200</td>\n",
              "      <td>0.757000</td>\n",
              "      <td>6.802000</td>\n",
              "      <td>0.001713</td>\n",
              "      <td>0.002252</td>\n",
              "      <td>0.000000</td>\n",
              "      <td>0.000000</td>\n",
              "      <td>0.007882</td>\n",
              "      <td>0.000895</td>\n",
              "      <td>7.930000</td>\n",
              "      <td>12.020000</td>\n",
              "      <td>50.410000</td>\n",
              "      <td>185.200000</td>\n",
              "      <td>0.071170</td>\n",
              "      <td>0.027290</td>\n",
              "      <td>0.000000</td>\n",
              "      <td>0.000000</td>\n",
              "      <td>0.156500</td>\n",
              "      <td>0.055040</td>\n",
              "    </tr>\n",
              "    <tr>\n",
              "      <th>25%</th>\n",
              "      <td>11.700000</td>\n",
              "      <td>16.170000</td>\n",
              "      <td>75.170000</td>\n",
              "      <td>420.300000</td>\n",
              "      <td>0.086370</td>\n",
              "      <td>0.064920</td>\n",
              "      <td>0.029560</td>\n",
              "      <td>0.020310</td>\n",
              "      <td>0.161900</td>\n",
              "      <td>0.057700</td>\n",
              "      <td>0.232400</td>\n",
              "      <td>0.833900</td>\n",
              "      <td>1.606000</td>\n",
              "      <td>17.850000</td>\n",
              "      <td>0.005169</td>\n",
              "      <td>0.013080</td>\n",
              "      <td>0.015090</td>\n",
              "      <td>0.007638</td>\n",
              "      <td>0.015160</td>\n",
              "      <td>0.002248</td>\n",
              "      <td>13.010000</td>\n",
              "      <td>21.080000</td>\n",
              "      <td>84.110000</td>\n",
              "      <td>515.300000</td>\n",
              "      <td>0.116600</td>\n",
              "      <td>0.147200</td>\n",
              "      <td>0.114500</td>\n",
              "      <td>0.064930</td>\n",
              "      <td>0.250400</td>\n",
              "      <td>0.071460</td>\n",
              "    </tr>\n",
              "    <tr>\n",
              "      <th>50%</th>\n",
              "      <td>13.370000</td>\n",
              "      <td>18.840000</td>\n",
              "      <td>86.240000</td>\n",
              "      <td>551.100000</td>\n",
              "      <td>0.095870</td>\n",
              "      <td>0.092630</td>\n",
              "      <td>0.061540</td>\n",
              "      <td>0.033500</td>\n",
              "      <td>0.179200</td>\n",
              "      <td>0.061540</td>\n",
              "      <td>0.324200</td>\n",
              "      <td>1.108000</td>\n",
              "      <td>2.287000</td>\n",
              "      <td>24.530000</td>\n",
              "      <td>0.006380</td>\n",
              "      <td>0.020450</td>\n",
              "      <td>0.025890</td>\n",
              "      <td>0.010930</td>\n",
              "      <td>0.018730</td>\n",
              "      <td>0.003187</td>\n",
              "      <td>14.970000</td>\n",
              "      <td>25.410000</td>\n",
              "      <td>97.660000</td>\n",
              "      <td>686.500000</td>\n",
              "      <td>0.131300</td>\n",
              "      <td>0.211900</td>\n",
              "      <td>0.226700</td>\n",
              "      <td>0.099930</td>\n",
              "      <td>0.282200</td>\n",
              "      <td>0.080040</td>\n",
              "    </tr>\n",
              "    <tr>\n",
              "      <th>75%</th>\n",
              "      <td>15.780000</td>\n",
              "      <td>21.800000</td>\n",
              "      <td>104.100000</td>\n",
              "      <td>782.700000</td>\n",
              "      <td>0.105300</td>\n",
              "      <td>0.130400</td>\n",
              "      <td>0.130700</td>\n",
              "      <td>0.074000</td>\n",
              "      <td>0.195700</td>\n",
              "      <td>0.066120</td>\n",
              "      <td>0.478900</td>\n",
              "      <td>1.474000</td>\n",
              "      <td>3.357000</td>\n",
              "      <td>45.190000</td>\n",
              "      <td>0.008146</td>\n",
              "      <td>0.032450</td>\n",
              "      <td>0.042050</td>\n",
              "      <td>0.014710</td>\n",
              "      <td>0.023480</td>\n",
              "      <td>0.004558</td>\n",
              "      <td>18.790000</td>\n",
              "      <td>29.720000</td>\n",
              "      <td>125.400000</td>\n",
              "      <td>1084.000000</td>\n",
              "      <td>0.146000</td>\n",
              "      <td>0.339100</td>\n",
              "      <td>0.382900</td>\n",
              "      <td>0.161400</td>\n",
              "      <td>0.317900</td>\n",
              "      <td>0.092080</td>\n",
              "    </tr>\n",
              "    <tr>\n",
              "      <th>max</th>\n",
              "      <td>28.110000</td>\n",
              "      <td>39.280000</td>\n",
              "      <td>188.500000</td>\n",
              "      <td>2501.000000</td>\n",
              "      <td>0.163400</td>\n",
              "      <td>0.345400</td>\n",
              "      <td>0.426800</td>\n",
              "      <td>0.201200</td>\n",
              "      <td>0.304000</td>\n",
              "      <td>0.097440</td>\n",
              "      <td>2.873000</td>\n",
              "      <td>4.885000</td>\n",
              "      <td>21.980000</td>\n",
              "      <td>542.200000</td>\n",
              "      <td>0.031130</td>\n",
              "      <td>0.135400</td>\n",
              "      <td>0.396000</td>\n",
              "      <td>0.052790</td>\n",
              "      <td>0.078950</td>\n",
              "      <td>0.029840</td>\n",
              "      <td>36.040000</td>\n",
              "      <td>49.540000</td>\n",
              "      <td>251.200000</td>\n",
              "      <td>4254.000000</td>\n",
              "      <td>0.222600</td>\n",
              "      <td>1.058000</td>\n",
              "      <td>1.252000</td>\n",
              "      <td>0.291000</td>\n",
              "      <td>0.663800</td>\n",
              "      <td>0.207500</td>\n",
              "    </tr>\n",
              "  </tbody>\n",
              "</table>\n",
              "</div>"
            ],
            "text/plain": [
              "       radius_mean  texture_mean  ...  symmetry_worst  fractal_dimension_worst\n",
              "count   569.000000    569.000000  ...      569.000000               569.000000\n",
              "mean     14.127292     19.289649  ...        0.290076                 0.083946\n",
              "std       3.524049      4.301036  ...        0.061867                 0.018061\n",
              "min       6.981000      9.710000  ...        0.156500                 0.055040\n",
              "25%      11.700000     16.170000  ...        0.250400                 0.071460\n",
              "50%      13.370000     18.840000  ...        0.282200                 0.080040\n",
              "75%      15.780000     21.800000  ...        0.317900                 0.092080\n",
              "max      28.110000     39.280000  ...        0.663800                 0.207500\n",
              "\n",
              "[8 rows x 30 columns]"
            ]
          },
          "metadata": {},
          "execution_count": 54
        }
      ]
    },
    {
      "cell_type": "code",
      "metadata": {
        "id": "b28531a5"
      },
      "source": [
        ""
      ],
      "id": "b28531a5",
      "execution_count": null,
      "outputs": []
    },
    {
      "cell_type": "code",
      "metadata": {
        "colab": {
          "base_uri": "https://localhost:8080/",
          "height": 181
        },
        "id": "53e43cba",
        "outputId": "1ff0eb3a-1751-43a1-cb1d-e99541c946fa"
      },
      "source": [
        "cancer_dataset.groupby('diagnosis').mean()"
      ],
      "id": "53e43cba",
      "execution_count": null,
      "outputs": [
        {
          "output_type": "execute_result",
          "data": {
            "text/html": [
              "<div>\n",
              "<style scoped>\n",
              "    .dataframe tbody tr th:only-of-type {\n",
              "        vertical-align: middle;\n",
              "    }\n",
              "\n",
              "    .dataframe tbody tr th {\n",
              "        vertical-align: top;\n",
              "    }\n",
              "\n",
              "    .dataframe thead th {\n",
              "        text-align: right;\n",
              "    }\n",
              "</style>\n",
              "<table border=\"1\" class=\"dataframe\">\n",
              "  <thead>\n",
              "    <tr style=\"text-align: right;\">\n",
              "      <th></th>\n",
              "      <th>radius_mean</th>\n",
              "      <th>texture_mean</th>\n",
              "      <th>perimeter_mean</th>\n",
              "      <th>area_mean</th>\n",
              "      <th>smoothness_mean</th>\n",
              "      <th>compactness_mean</th>\n",
              "      <th>concavity_mean</th>\n",
              "      <th>concave points_mean</th>\n",
              "      <th>symmetry_mean</th>\n",
              "      <th>fractal_dimension_mean</th>\n",
              "      <th>radius_se</th>\n",
              "      <th>texture_se</th>\n",
              "      <th>perimeter_se</th>\n",
              "      <th>area_se</th>\n",
              "      <th>smoothness_se</th>\n",
              "      <th>compactness_se</th>\n",
              "      <th>concavity_se</th>\n",
              "      <th>concave points_se</th>\n",
              "      <th>symmetry_se</th>\n",
              "      <th>fractal_dimension_se</th>\n",
              "      <th>radius_worst</th>\n",
              "      <th>texture_worst</th>\n",
              "      <th>perimeter_worst</th>\n",
              "      <th>area_worst</th>\n",
              "      <th>smoothness_worst</th>\n",
              "      <th>compactness_worst</th>\n",
              "      <th>concavity_worst</th>\n",
              "      <th>concave points_worst</th>\n",
              "      <th>symmetry_worst</th>\n",
              "      <th>fractal_dimension_worst</th>\n",
              "    </tr>\n",
              "    <tr>\n",
              "      <th>diagnosis</th>\n",
              "      <th></th>\n",
              "      <th></th>\n",
              "      <th></th>\n",
              "      <th></th>\n",
              "      <th></th>\n",
              "      <th></th>\n",
              "      <th></th>\n",
              "      <th></th>\n",
              "      <th></th>\n",
              "      <th></th>\n",
              "      <th></th>\n",
              "      <th></th>\n",
              "      <th></th>\n",
              "      <th></th>\n",
              "      <th></th>\n",
              "      <th></th>\n",
              "      <th></th>\n",
              "      <th></th>\n",
              "      <th></th>\n",
              "      <th></th>\n",
              "      <th></th>\n",
              "      <th></th>\n",
              "      <th></th>\n",
              "      <th></th>\n",
              "      <th></th>\n",
              "      <th></th>\n",
              "      <th></th>\n",
              "      <th></th>\n",
              "      <th></th>\n",
              "      <th></th>\n",
              "    </tr>\n",
              "  </thead>\n",
              "  <tbody>\n",
              "    <tr>\n",
              "      <th>B</th>\n",
              "      <td>12.146524</td>\n",
              "      <td>17.914762</td>\n",
              "      <td>78.075406</td>\n",
              "      <td>462.790196</td>\n",
              "      <td>0.092478</td>\n",
              "      <td>0.080085</td>\n",
              "      <td>0.046058</td>\n",
              "      <td>0.025717</td>\n",
              "      <td>0.174186</td>\n",
              "      <td>0.062867</td>\n",
              "      <td>0.284082</td>\n",
              "      <td>1.220380</td>\n",
              "      <td>2.000321</td>\n",
              "      <td>21.135148</td>\n",
              "      <td>0.007196</td>\n",
              "      <td>0.021438</td>\n",
              "      <td>0.025997</td>\n",
              "      <td>0.009858</td>\n",
              "      <td>0.020584</td>\n",
              "      <td>0.003636</td>\n",
              "      <td>13.379801</td>\n",
              "      <td>23.515070</td>\n",
              "      <td>87.005938</td>\n",
              "      <td>558.899440</td>\n",
              "      <td>0.124959</td>\n",
              "      <td>0.182673</td>\n",
              "      <td>0.166238</td>\n",
              "      <td>0.074444</td>\n",
              "      <td>0.270246</td>\n",
              "      <td>0.079442</td>\n",
              "    </tr>\n",
              "    <tr>\n",
              "      <th>M</th>\n",
              "      <td>17.462830</td>\n",
              "      <td>21.604906</td>\n",
              "      <td>115.365377</td>\n",
              "      <td>978.376415</td>\n",
              "      <td>0.102898</td>\n",
              "      <td>0.145188</td>\n",
              "      <td>0.160775</td>\n",
              "      <td>0.087990</td>\n",
              "      <td>0.192909</td>\n",
              "      <td>0.062680</td>\n",
              "      <td>0.609083</td>\n",
              "      <td>1.210915</td>\n",
              "      <td>4.323929</td>\n",
              "      <td>72.672406</td>\n",
              "      <td>0.006780</td>\n",
              "      <td>0.032281</td>\n",
              "      <td>0.041824</td>\n",
              "      <td>0.015060</td>\n",
              "      <td>0.020472</td>\n",
              "      <td>0.004062</td>\n",
              "      <td>21.134811</td>\n",
              "      <td>29.318208</td>\n",
              "      <td>141.370330</td>\n",
              "      <td>1422.286321</td>\n",
              "      <td>0.144845</td>\n",
              "      <td>0.374824</td>\n",
              "      <td>0.450606</td>\n",
              "      <td>0.182237</td>\n",
              "      <td>0.323468</td>\n",
              "      <td>0.091530</td>\n",
              "    </tr>\n",
              "  </tbody>\n",
              "</table>\n",
              "</div>"
            ],
            "text/plain": [
              "           radius_mean  texture_mean  ...  symmetry_worst  fractal_dimension_worst\n",
              "diagnosis                             ...                                         \n",
              "B            12.146524     17.914762  ...        0.270246                 0.079442\n",
              "M            17.462830     21.604906  ...        0.323468                 0.091530\n",
              "\n",
              "[2 rows x 30 columns]"
            ]
          },
          "metadata": {},
          "execution_count": 55
        }
      ]
    },
    {
      "cell_type": "code",
      "metadata": {
        "id": "673f7173"
      },
      "source": [
        ""
      ],
      "id": "673f7173",
      "execution_count": null,
      "outputs": []
    },
    {
      "cell_type": "markdown",
      "metadata": {
        "id": "d48ceeab"
      },
      "source": [
        "# Outliers"
      ],
      "id": "d48ceeab"
    },
    {
      "cell_type": "code",
      "metadata": {
        "colab": {
          "base_uri": "https://localhost:8080/",
          "height": 297
        },
        "id": "79d949d1",
        "outputId": "dca1a497-351b-42b1-d921-25d238941f2a"
      },
      "source": [
        "sns.boxplot(x='perimeter_mean', data = cancer_dataset)"
      ],
      "id": "79d949d1",
      "execution_count": null,
      "outputs": [
        {
          "output_type": "execute_result",
          "data": {
            "text/plain": [
              "<matplotlib.axes._subplots.AxesSubplot at 0x7fd6a2c4d750>"
            ]
          },
          "metadata": {},
          "execution_count": 56
        },
        {
          "output_type": "display_data",
          "data": {
            "image/png": "[encoded data removed]",
            "text/plain": [
              "<Figure size 432x288 with 1 Axes>"
            ]
          },
          "metadata": {
            "needs_background": "light"
          }
        }
      ]
    },
    {
      "cell_type": "markdown",
      "metadata": {
        "id": "fce2060d"
      },
      "source": [
        "## Encoding Categorical Variables"
      ],
      "id": "fce2060d"
    },
    {
      "cell_type": "markdown",
      "metadata": {
        "id": "db879fd7"
      },
      "source": [
        "B --> 0\n",
        "\n",
        "M --> 1"
      ],
      "id": "db879fd7"
    },
    {
      "cell_type": "code",
      "metadata": {
        "id": "02c564fa"
      },
      "source": [
        "cancer_dataset.replace({'diagnosis': {'B':0, 'M':1}}, inplace=True)"
      ],
      "id": "02c564fa",
      "execution_count": null,
      "outputs": []
    },
    {
      "cell_type": "code",
      "metadata": {
        "id": "54288a6d"
      },
      "source": [
        ""
      ],
      "id": "54288a6d",
      "execution_count": null,
      "outputs": []
    },
    {
      "cell_type": "markdown",
      "metadata": {
        "id": "b1a5ee26"
      },
      "source": [
        "## Data Pre-Processing"
      ],
      "id": "b1a5ee26"
    },
    {
      "cell_type": "markdown",
      "metadata": {
        "id": "f04c9954"
      },
      "source": [
        "Separating the features & Target"
      ],
      "id": "f04c9954"
    },
    {
      "cell_type": "code",
      "metadata": {
        "id": "db791a58"
      },
      "source": [
        "x = cancer_dataset.drop(columns='diagnosis', axis=1)"
      ],
      "id": "db791a58",
      "execution_count": null,
      "outputs": []
    },
    {
      "cell_type": "code",
      "metadata": {
        "id": "074c785f"
      },
      "source": [
        "y = cancer_dataset['diagnosis']"
      ],
      "id": "074c785f",
      "execution_count": null,
      "outputs": []
    },
    {
      "cell_type": "code",
      "metadata": {
        "colab": {
          "base_uri": "https://localhost:8080/",
          "height": 244
        },
        "id": "835d4407",
        "outputId": "f4e8f731-cd37-4c7b-872c-8d723830e686"
      },
      "source": [
        "x.head()"
      ],
      "id": "835d4407",
      "execution_count": null,
      "outputs": [
        {
          "output_type": "execute_result",
          "data": {
            "text/html": [
              "<div>\n",
              "<style scoped>\n",
              "    .dataframe tbody tr th:only-of-type {\n",
              "        vertical-align: middle;\n",
              "    }\n",
              "\n",
              "    .dataframe tbody tr th {\n",
              "        vertical-align: top;\n",
              "    }\n",
              "\n",
              "    .dataframe thead th {\n",
              "        text-align: right;\n",
              "    }\n",
              "</style>\n",
              "<table border=\"1\" class=\"dataframe\">\n",
              "  <thead>\n",
              "    <tr style=\"text-align: right;\">\n",
              "      <th></th>\n",
              "      <th>radius_mean</th>\n",
              "      <th>texture_mean</th>\n",
              "      <th>perimeter_mean</th>\n",
              "      <th>area_mean</th>\n",
              "      <th>smoothness_mean</th>\n",
              "      <th>compactness_mean</th>\n",
              "      <th>concavity_mean</th>\n",
              "      <th>concave points_mean</th>\n",
              "      <th>symmetry_mean</th>\n",
              "      <th>fractal_dimension_mean</th>\n",
              "      <th>radius_se</th>\n",
              "      <th>texture_se</th>\n",
              "      <th>perimeter_se</th>\n",
              "      <th>area_se</th>\n",
              "      <th>smoothness_se</th>\n",
              "      <th>compactness_se</th>\n",
              "      <th>concavity_se</th>\n",
              "      <th>concave points_se</th>\n",
              "      <th>symmetry_se</th>\n",
              "      <th>fractal_dimension_se</th>\n",
              "      <th>radius_worst</th>\n",
              "      <th>texture_worst</th>\n",
              "      <th>perimeter_worst</th>\n",
              "      <th>area_worst</th>\n",
              "      <th>smoothness_worst</th>\n",
              "      <th>compactness_worst</th>\n",
              "      <th>concavity_worst</th>\n",
              "      <th>concave points_worst</th>\n",
              "      <th>symmetry_worst</th>\n",
              "      <th>fractal_dimension_worst</th>\n",
              "    </tr>\n",
              "  </thead>\n",
              "  <tbody>\n",
              "    <tr>\n",
              "      <th>0</th>\n",
              "      <td>17.99</td>\n",
              "      <td>10.38</td>\n",
              "      <td>122.80</td>\n",
              "      <td>1001.0</td>\n",
              "      <td>0.11840</td>\n",
              "      <td>0.27760</td>\n",
              "      <td>0.3001</td>\n",
              "      <td>0.14710</td>\n",
              "      <td>0.2419</td>\n",
              "      <td>0.07871</td>\n",
              "      <td>1.0950</td>\n",
              "      <td>0.9053</td>\n",
              "      <td>8.589</td>\n",
              "      <td>153.40</td>\n",
              "      <td>0.006399</td>\n",
              "      <td>0.04904</td>\n",
              "      <td>0.05373</td>\n",
              "      <td>0.01587</td>\n",
              "      <td>0.03003</td>\n",
              "      <td>0.006193</td>\n",
              "      <td>25.38</td>\n",
              "      <td>17.33</td>\n",
              "      <td>184.60</td>\n",
              "      <td>2019.0</td>\n",
              "      <td>0.1622</td>\n",
              "      <td>0.6656</td>\n",
              "      <td>0.7119</td>\n",
              "      <td>0.2654</td>\n",
              "      <td>0.4601</td>\n",
              "      <td>0.11890</td>\n",
              "    </tr>\n",
              "    <tr>\n",
              "      <th>1</th>\n",
              "      <td>20.57</td>\n",
              "      <td>17.77</td>\n",
              "      <td>132.90</td>\n",
              "      <td>1326.0</td>\n",
              "      <td>0.08474</td>\n",
              "      <td>0.07864</td>\n",
              "      <td>0.0869</td>\n",
              "      <td>0.07017</td>\n",
              "      <td>0.1812</td>\n",
              "      <td>0.05667</td>\n",
              "      <td>0.5435</td>\n",
              "      <td>0.7339</td>\n",
              "      <td>3.398</td>\n",
              "      <td>74.08</td>\n",
              "      <td>0.005225</td>\n",
              "      <td>0.01308</td>\n",
              "      <td>0.01860</td>\n",
              "      <td>0.01340</td>\n",
              "      <td>0.01389</td>\n",
              "      <td>0.003532</td>\n",
              "      <td>24.99</td>\n",
              "      <td>23.41</td>\n",
              "      <td>158.80</td>\n",
              "      <td>1956.0</td>\n",
              "      <td>0.1238</td>\n",
              "      <td>0.1866</td>\n",
              "      <td>0.2416</td>\n",
              "      <td>0.1860</td>\n",
              "      <td>0.2750</td>\n",
              "      <td>0.08902</td>\n",
              "    </tr>\n",
              "    <tr>\n",
              "      <th>2</th>\n",
              "      <td>19.69</td>\n",
              "      <td>21.25</td>\n",
              "      <td>130.00</td>\n",
              "      <td>1203.0</td>\n",
              "      <td>0.10960</td>\n",
              "      <td>0.15990</td>\n",
              "      <td>0.1974</td>\n",
              "      <td>0.12790</td>\n",
              "      <td>0.2069</td>\n",
              "      <td>0.05999</td>\n",
              "      <td>0.7456</td>\n",
              "      <td>0.7869</td>\n",
              "      <td>4.585</td>\n",
              "      <td>94.03</td>\n",
              "      <td>0.006150</td>\n",
              "      <td>0.04006</td>\n",
              "      <td>0.03832</td>\n",
              "      <td>0.02058</td>\n",
              "      <td>0.02250</td>\n",
              "      <td>0.004571</td>\n",
              "      <td>23.57</td>\n",
              "      <td>25.53</td>\n",
              "      <td>152.50</td>\n",
              "      <td>1709.0</td>\n",
              "      <td>0.1444</td>\n",
              "      <td>0.4245</td>\n",
              "      <td>0.4504</td>\n",
              "      <td>0.2430</td>\n",
              "      <td>0.3613</td>\n",
              "      <td>0.08758</td>\n",
              "    </tr>\n",
              "    <tr>\n",
              "      <th>3</th>\n",
              "      <td>11.42</td>\n",
              "      <td>20.38</td>\n",
              "      <td>77.58</td>\n",
              "      <td>386.1</td>\n",
              "      <td>0.14250</td>\n",
              "      <td>0.28390</td>\n",
              "      <td>0.2414</td>\n",
              "      <td>0.10520</td>\n",
              "      <td>0.2597</td>\n",
              "      <td>0.09744</td>\n",
              "      <td>0.4956</td>\n",
              "      <td>1.1560</td>\n",
              "      <td>3.445</td>\n",
              "      <td>27.23</td>\n",
              "      <td>0.009110</td>\n",
              "      <td>0.07458</td>\n",
              "      <td>0.05661</td>\n",
              "      <td>0.01867</td>\n",
              "      <td>0.05963</td>\n",
              "      <td>0.009208</td>\n",
              "      <td>14.91</td>\n",
              "      <td>26.50</td>\n",
              "      <td>98.87</td>\n",
              "      <td>567.7</td>\n",
              "      <td>0.2098</td>\n",
              "      <td>0.8663</td>\n",
              "      <td>0.6869</td>\n",
              "      <td>0.2575</td>\n",
              "      <td>0.6638</td>\n",
              "      <td>0.17300</td>\n",
              "    </tr>\n",
              "    <tr>\n",
              "      <th>4</th>\n",
              "      <td>20.29</td>\n",
              "      <td>14.34</td>\n",
              "      <td>135.10</td>\n",
              "      <td>1297.0</td>\n",
              "      <td>0.10030</td>\n",
              "      <td>0.13280</td>\n",
              "      <td>0.1980</td>\n",
              "      <td>0.10430</td>\n",
              "      <td>0.1809</td>\n",
              "      <td>0.05883</td>\n",
              "      <td>0.7572</td>\n",
              "      <td>0.7813</td>\n",
              "      <td>5.438</td>\n",
              "      <td>94.44</td>\n",
              "      <td>0.011490</td>\n",
              "      <td>0.02461</td>\n",
              "      <td>0.05688</td>\n",
              "      <td>0.01885</td>\n",
              "      <td>0.01756</td>\n",
              "      <td>0.005115</td>\n",
              "      <td>22.54</td>\n",
              "      <td>16.67</td>\n",
              "      <td>152.20</td>\n",
              "      <td>1575.0</td>\n",
              "      <td>0.1374</td>\n",
              "      <td>0.2050</td>\n",
              "      <td>0.4000</td>\n",
              "      <td>0.1625</td>\n",
              "      <td>0.2364</td>\n",
              "      <td>0.07678</td>\n",
              "    </tr>\n",
              "  </tbody>\n",
              "</table>\n",
              "</div>"
            ],
            "text/plain": [
              "   radius_mean  texture_mean  ...  symmetry_worst  fractal_dimension_worst\n",
              "0        17.99         10.38  ...          0.4601                  0.11890\n",
              "1        20.57         17.77  ...          0.2750                  0.08902\n",
              "2        19.69         21.25  ...          0.3613                  0.08758\n",
              "3        11.42         20.38  ...          0.6638                  0.17300\n",
              "4        20.29         14.34  ...          0.2364                  0.07678\n",
              "\n",
              "[5 rows x 30 columns]"
            ]
          },
          "metadata": {},
          "execution_count": 60
        }
      ]
    },
    {
      "cell_type": "code",
      "metadata": {
        "colab": {
          "base_uri": "https://localhost:8080/"
        },
        "id": "080e2be4",
        "outputId": "fdb1185f-47ec-4d40-c31f-be0c72d352d2"
      },
      "source": [
        "y.head()"
      ],
      "id": "080e2be4",
      "execution_count": null,
      "outputs": [
        {
          "output_type": "execute_result",
          "data": {
            "text/plain": [
              "0    1\n",
              "1    1\n",
              "2    1\n",
              "3    1\n",
              "4    1\n",
              "Name: diagnosis, dtype: int64"
            ]
          },
          "metadata": {},
          "execution_count": 61
        }
      ]
    },
    {
      "cell_type": "code",
      "metadata": {
        "id": "18a91127"
      },
      "source": [
        ""
      ],
      "id": "18a91127",
      "execution_count": null,
      "outputs": []
    },
    {
      "cell_type": "markdown",
      "metadata": {
        "id": "e8c876d7"
      },
      "source": [
        "## Splitting the data into Train & Test data"
      ],
      "id": "e8c876d7"
    },
    {
      "cell_type": "code",
      "metadata": {
        "id": "b681d79a"
      },
      "source": [
        "x_train, x_test, y_train, y_test = train_test_split(x, y, test_size = 0.2, random_state = 3, stratify = y)"
      ],
      "id": "b681d79a",
      "execution_count": null,
      "outputs": []
    },
    {
      "cell_type": "code",
      "metadata": {
        "id": "f7166b20"
      },
      "source": [
        ""
      ],
      "id": "f7166b20",
      "execution_count": null,
      "outputs": []
    },
    {
      "cell_type": "code",
      "metadata": {
        "colab": {
          "base_uri": "https://localhost:8080/"
        },
        "id": "3a3f7338",
        "outputId": "c6e3de5c-0d8a-4922-c81d-c26ddf17da80"
      },
      "source": [
        "print(x.shape)\n",
        "print(x_train.shape)\n",
        "print(x_test.shape)\n",
        "print(y_train.shape)\n",
        "print(y_test.shape)"
      ],
      "id": "3a3f7338",
      "execution_count": null,
      "outputs": [
        {
          "output_type": "stream",
          "name": "stdout",
          "text": [
            "(569, 30)\n",
            "(455, 30)\n",
            "(114, 30)\n",
            "(455,)\n",
            "(114,)\n"
          ]
        }
      ]
    },
    {
      "cell_type": "code",
      "metadata": {
        "id": "bff0383c"
      },
      "source": [
        ""
      ],
      "id": "bff0383c",
      "execution_count": null,
      "outputs": []
    },
    {
      "cell_type": "code",
      "metadata": {
        "id": "cda8f44e"
      },
      "source": [
        "scaler = StandardScaler()\n",
        "x_train = scaler.fit_transform(x_train)\n",
        "x_test = scaler.transform(x_test)"
      ],
      "id": "cda8f44e",
      "execution_count": null,
      "outputs": []
    },
    {
      "cell_type": "code",
      "metadata": {
        "id": "9a60ee11"
      },
      "source": [
        "x_train = x_train.reshape(455, 30, 1)\n",
        "x_test = x_test.reshape(114, 30, 1)"
      ],
      "id": "9a60ee11",
      "execution_count": null,
      "outputs": []
    },
    {
      "cell_type": "code",
      "metadata": {
        "id": "70a9beec"
      },
      "source": [
        ""
      ],
      "id": "70a9beec",
      "execution_count": null,
      "outputs": []
    },
    {
      "cell_type": "code",
      "metadata": {
        "id": "083d52ad"
      },
      "source": [
        ""
      ],
      "id": "083d52ad",
      "execution_count": null,
      "outputs": []
    },
    {
      "cell_type": "markdown",
      "metadata": {
        "id": "63b139fc"
      },
      "source": [
        "## Model Evalution"
      ],
      "id": "63b139fc"
    },
    {
      "cell_type": "code",
      "metadata": {
        "id": "6e4027c3"
      },
      "source": [
        "epochs = 100\n",
        "model = Sequential()\n",
        "model.add(Conv1D(filters=16, kernel_size=2, activation='relu', input_shape=(30,1)))\n",
        "# model.add(BatchNormalization())\n",
        "# model.add(Dropout(0.2))\n",
        "\n",
        "model.add(Conv1D(filters=16, kernel_size=2, activation='relu',))\n",
        "model.add(Conv1D(filters=16, kernel_size=2, activation='relu',))\n",
        "model.add(Conv1D(filters=16, kernel_size=2, activation='relu',))\n",
        "# model.add(BatchNormalization())\n",
        "# model.add(Dropout(0.5))\n",
        "\n",
        "model.add(Flatten())\n",
        "model.add(Dense(32, activation='relu'))\n",
        "model.add(Dropout(0.5))\n",
        "\n",
        "model.add(Dense(1, activation='sigmoid'))"
      ],
      "id": "6e4027c3",
      "execution_count": null,
      "outputs": []
    },
    {
      "cell_type": "code",
      "metadata": {
        "id": "Wi4TsCrtDqcz"
      },
      "source": [
        "# model = Sequential([\n",
        "#     Dense(32, activation='relu', input_shape=(30,)),\n",
        "#     Dense(32, activation='relu'),\n",
        "#     Dense(1, activation='sigmoid'),\n",
        "# ])"
      ],
      "id": "Wi4TsCrtDqcz",
      "execution_count": null,
      "outputs": []
    },
    {
      "cell_type": "code",
      "metadata": {
        "id": "1ba04a63"
      },
      "source": [
        ""
      ],
      "id": "1ba04a63",
      "execution_count": null,
      "outputs": []
    },
    {
      "cell_type": "code",
      "metadata": {
        "colab": {
          "base_uri": "https://localhost:8080/"
        },
        "id": "f205cf4a",
        "outputId": "e96a21d0-7275-4d5b-d021-d4e17467ad46"
      },
      "source": [
        "model.summary()"
      ],
      "id": "f205cf4a",
      "execution_count": null,
      "outputs": [
        {
          "output_type": "stream",
          "name": "stdout",
          "text": [
            "Model: \"sequential_23\"\n",
            "_________________________________________________________________\n",
            " Layer (type)                Output Shape              Param #   \n",
            "=================================================================\n",
            " conv1d_36 (Conv1D)          (None, 29, 16)            48        \n",
            "                                                                 \n",
            " conv1d_37 (Conv1D)          (None, 28, 16)            528       \n",
            "                                                                 \n",
            " conv1d_38 (Conv1D)          (None, 27, 16)            528       \n",
            "                                                                 \n",
            " conv1d_39 (Conv1D)          (None, 26, 16)            528       \n",
            "                                                                 \n",
            " flatten_18 (Flatten)        (None, 416)               0         \n",
            "                                                                 \n",
            " dense_51 (Dense)            (None, 32)                13344     \n",
            "                                                                 \n",
            " dropout_52 (Dropout)        (None, 32)                0         \n",
            "                                                                 \n",
            " dense_52 (Dense)            (None, 1)                 33        \n",
            "                                                                 \n",
            "=================================================================\n",
            "Total params: 15,009\n",
            "Trainable params: 15,009\n",
            "Non-trainable params: 0\n",
            "_________________________________________________________________\n"
          ]
        }
      ]
    },
    {
      "cell_type": "code",
      "metadata": {
        "id": "91ab8e88"
      },
      "source": [
        ""
      ],
      "id": "91ab8e88",
      "execution_count": null,
      "outputs": []
    },
    {
      "cell_type": "code",
      "metadata": {
        "id": "4cc695e5"
      },
      "source": [
        "model.compile(optimizer=Adam(learning_rate=0.001), loss = 'binary_crossentropy', metrics=['accuracy'])"
      ],
      "id": "4cc695e5",
      "execution_count": null,
      "outputs": []
    },
    {
      "cell_type": "code",
      "metadata": {
        "id": "e4812856"
      },
      "source": [
        ""
      ],
      "id": "e4812856",
      "execution_count": null,
      "outputs": []
    },
    {
      "cell_type": "code",
      "metadata": {
        "colab": {
          "base_uri": "https://localhost:8080/"
        },
        "id": "9fa82f8a",
        "outputId": "4bb243bb-d9c9-4809-d1df-d56bd1b6c806"
      },
      "source": [
        "history = model.fit(x_train, y_train, epochs=epochs, validation_data = (x_test, y_test), verbose=1)"
      ],
      "id": "9fa82f8a",
      "execution_count": null,
      "outputs": [
        {
          "output_type": "stream",
          "name": "stdout",
          "text": [
            "Epoch 1/100\n",
            "15/15 [==============================] - 1s 27ms/step - loss: 0.6076 - accuracy: 0.6593 - val_loss: 0.4179 - val_accuracy: 0.8596\n",
            "Epoch 2/100\n",
            "15/15 [==============================] - 0s 15ms/step - loss: 0.3288 - accuracy: 0.8835 - val_loss: 0.2017 - val_accuracy: 0.9298\n",
            "Epoch 3/100\n",
            "15/15 [==============================] - 0s 15ms/step - loss: 0.2049 - accuracy: 0.9407 - val_loss: 0.1243 - val_accuracy: 0.9825\n",
            "Epoch 4/100\n",
            "15/15 [==============================] - 0s 14ms/step - loss: 0.1420 - accuracy: 0.9385 - val_loss: 0.0727 - val_accuracy: 0.9825\n",
            "Epoch 5/100\n",
            "15/15 [==============================] - 0s 14ms/step - loss: 0.1241 - accuracy: 0.9648 - val_loss: 0.0632 - val_accuracy: 0.9912\n",
            "Epoch 6/100\n",
            "15/15 [==============================] - 0s 13ms/step - loss: 0.0950 - accuracy: 0.9692 - val_loss: 0.0518 - val_accuracy: 0.9825\n",
            "Epoch 7/100\n",
            "15/15 [==============================] - 0s 16ms/step - loss: 0.1081 - accuracy: 0.9604 - val_loss: 0.0510 - val_accuracy: 0.9825\n",
            "Epoch 8/100\n",
            "15/15 [==============================] - 0s 14ms/step - loss: 0.0891 - accuracy: 0.9692 - val_loss: 0.0577 - val_accuracy: 0.9912\n",
            "Epoch 9/100\n",
            "15/15 [==============================] - 0s 13ms/step - loss: 0.0852 - accuracy: 0.9736 - val_loss: 0.0427 - val_accuracy: 0.9912\n",
            "Epoch 10/100\n",
            "15/15 [==============================] - 0s 15ms/step - loss: 0.0872 - accuracy: 0.9670 - val_loss: 0.0575 - val_accuracy: 0.9912\n",
            "Epoch 11/100\n",
            "15/15 [==============================] - 0s 15ms/step - loss: 0.0791 - accuracy: 0.9780 - val_loss: 0.0403 - val_accuracy: 0.9825\n",
            "Epoch 12/100\n",
            "15/15 [==============================] - 0s 13ms/step - loss: 0.0813 - accuracy: 0.9736 - val_loss: 0.0514 - val_accuracy: 0.9912\n",
            "Epoch 13/100\n",
            "15/15 [==============================] - 0s 15ms/step - loss: 0.0716 - accuracy: 0.9758 - val_loss: 0.0450 - val_accuracy: 0.9912\n",
            "Epoch 14/100\n",
            "15/15 [==============================] - 0s 15ms/step - loss: 0.0648 - accuracy: 0.9846 - val_loss: 0.0411 - val_accuracy: 0.9912\n",
            "Epoch 15/100\n",
            "15/15 [==============================] - 0s 13ms/step - loss: 0.0542 - accuracy: 0.9824 - val_loss: 0.0436 - val_accuracy: 0.9912\n",
            "Epoch 16/100\n",
            "15/15 [==============================] - 0s 14ms/step - loss: 0.0678 - accuracy: 0.9758 - val_loss: 0.0391 - val_accuracy: 0.9912\n",
            "Epoch 17/100\n",
            "15/15 [==============================] - 0s 14ms/step - loss: 0.0632 - accuracy: 0.9802 - val_loss: 0.0439 - val_accuracy: 0.9912\n",
            "Epoch 18/100\n",
            "15/15 [==============================] - 0s 14ms/step - loss: 0.0575 - accuracy: 0.9846 - val_loss: 0.0391 - val_accuracy: 0.9912\n",
            "Epoch 19/100\n",
            "15/15 [==============================] - 0s 15ms/step - loss: 0.0547 - accuracy: 0.9868 - val_loss: 0.0435 - val_accuracy: 0.9912\n",
            "Epoch 20/100\n",
            "15/15 [==============================] - 0s 14ms/step - loss: 0.0487 - accuracy: 0.9846 - val_loss: 0.0406 - val_accuracy: 0.9912\n",
            "Epoch 21/100\n",
            "15/15 [==============================] - 0s 15ms/step - loss: 0.0577 - accuracy: 0.9824 - val_loss: 0.0387 - val_accuracy: 0.9912\n",
            "Epoch 22/100\n",
            "15/15 [==============================] - 0s 15ms/step - loss: 0.0570 - accuracy: 0.9780 - val_loss: 0.0583 - val_accuracy: 0.9737\n",
            "Epoch 23/100\n",
            "15/15 [==============================] - 0s 15ms/step - loss: 0.0542 - accuracy: 0.9780 - val_loss: 0.0392 - val_accuracy: 0.9912\n",
            "Epoch 24/100\n",
            "15/15 [==============================] - 0s 14ms/step - loss: 0.0451 - accuracy: 0.9868 - val_loss: 0.0416 - val_accuracy: 0.9912\n",
            "Epoch 25/100\n",
            "15/15 [==============================] - 0s 16ms/step - loss: 0.0466 - accuracy: 0.9868 - val_loss: 0.0392 - val_accuracy: 0.9912\n",
            "Epoch 26/100\n",
            "15/15 [==============================] - 0s 15ms/step - loss: 0.0399 - accuracy: 0.9846 - val_loss: 0.0507 - val_accuracy: 0.9825\n",
            "Epoch 27/100\n",
            "15/15 [==============================] - 0s 14ms/step - loss: 0.0294 - accuracy: 0.9890 - val_loss: 0.0358 - val_accuracy: 0.9912\n",
            "Epoch 28/100\n",
            "15/15 [==============================] - 0s 14ms/step - loss: 0.0363 - accuracy: 0.9868 - val_loss: 0.0471 - val_accuracy: 0.9825\n",
            "Epoch 29/100\n",
            "15/15 [==============================] - 0s 14ms/step - loss: 0.0419 - accuracy: 0.9868 - val_loss: 0.0393 - val_accuracy: 0.9912\n",
            "Epoch 30/100\n",
            "15/15 [==============================] - 0s 15ms/step - loss: 0.0374 - accuracy: 0.9890 - val_loss: 0.0451 - val_accuracy: 0.9912\n",
            "Epoch 31/100\n",
            "15/15 [==============================] - 0s 14ms/step - loss: 0.0425 - accuracy: 0.9824 - val_loss: 0.0359 - val_accuracy: 0.9912\n",
            "Epoch 32/100\n",
            "15/15 [==============================] - 0s 14ms/step - loss: 0.0323 - accuracy: 0.9868 - val_loss: 0.0477 - val_accuracy: 0.9912\n",
            "Epoch 33/100\n",
            "15/15 [==============================] - 0s 13ms/step - loss: 0.0262 - accuracy: 0.9912 - val_loss: 0.0335 - val_accuracy: 0.9912\n",
            "Epoch 34/100\n",
            "15/15 [==============================] - 0s 16ms/step - loss: 0.0253 - accuracy: 0.9934 - val_loss: 0.0411 - val_accuracy: 0.9912\n",
            "Epoch 35/100\n",
            "15/15 [==============================] - 0s 14ms/step - loss: 0.0393 - accuracy: 0.9802 - val_loss: 0.0313 - val_accuracy: 0.9825\n",
            "Epoch 36/100\n",
            "15/15 [==============================] - 0s 14ms/step - loss: 0.0281 - accuracy: 0.9934 - val_loss: 0.0362 - val_accuracy: 0.9912\n",
            "Epoch 37/100\n",
            "15/15 [==============================] - 0s 14ms/step - loss: 0.0294 - accuracy: 0.9868 - val_loss: 0.0544 - val_accuracy: 0.9737\n",
            "Epoch 38/100\n",
            "15/15 [==============================] - 0s 14ms/step - loss: 0.0310 - accuracy: 0.9846 - val_loss: 0.0375 - val_accuracy: 0.9825\n",
            "Epoch 39/100\n",
            "15/15 [==============================] - 0s 15ms/step - loss: 0.0222 - accuracy: 0.9934 - val_loss: 0.0733 - val_accuracy: 0.9737\n",
            "Epoch 40/100\n",
            "15/15 [==============================] - 0s 15ms/step - loss: 0.0209 - accuracy: 0.9934 - val_loss: 0.0273 - val_accuracy: 0.9825\n",
            "Epoch 41/100\n",
            "15/15 [==============================] - 0s 13ms/step - loss: 0.0348 - accuracy: 0.9868 - val_loss: 0.0452 - val_accuracy: 0.9825\n",
            "Epoch 42/100\n",
            "15/15 [==============================] - 0s 15ms/step - loss: 0.0347 - accuracy: 0.9846 - val_loss: 0.0313 - val_accuracy: 0.9825\n",
            "Epoch 43/100\n",
            "15/15 [==============================] - 0s 17ms/step - loss: 0.0258 - accuracy: 0.9912 - val_loss: 0.0459 - val_accuracy: 0.9825\n",
            "Epoch 44/100\n",
            "15/15 [==============================] - 0s 14ms/step - loss: 0.0264 - accuracy: 0.9934 - val_loss: 0.0391 - val_accuracy: 0.9912\n",
            "Epoch 45/100\n",
            "15/15 [==============================] - 0s 13ms/step - loss: 0.0326 - accuracy: 0.9868 - val_loss: 0.0373 - val_accuracy: 0.9912\n",
            "Epoch 46/100\n",
            "15/15 [==============================] - 0s 14ms/step - loss: 0.0263 - accuracy: 0.9912 - val_loss: 0.0399 - val_accuracy: 0.9912\n",
            "Epoch 47/100\n",
            "15/15 [==============================] - 0s 15ms/step - loss: 0.0161 - accuracy: 0.9956 - val_loss: 0.0362 - val_accuracy: 0.9912\n",
            "Epoch 48/100\n",
            "15/15 [==============================] - 0s 17ms/step - loss: 0.0262 - accuracy: 0.9890 - val_loss: 0.0462 - val_accuracy: 0.9825\n",
            "Epoch 49/100\n",
            "15/15 [==============================] - 0s 14ms/step - loss: 0.0329 - accuracy: 0.9890 - val_loss: 0.0276 - val_accuracy: 0.9912\n",
            "Epoch 50/100\n",
            "15/15 [==============================] - 0s 14ms/step - loss: 0.0204 - accuracy: 0.9934 - val_loss: 0.0277 - val_accuracy: 0.9912\n",
            "Epoch 51/100\n",
            "15/15 [==============================] - 0s 15ms/step - loss: 0.0186 - accuracy: 0.9956 - val_loss: 0.0231 - val_accuracy: 0.9825\n",
            "Epoch 52/100\n",
            "15/15 [==============================] - 0s 15ms/step - loss: 0.0192 - accuracy: 0.9934 - val_loss: 0.0350 - val_accuracy: 0.9912\n",
            "Epoch 53/100\n",
            "15/15 [==============================] - 0s 15ms/step - loss: 0.0256 - accuracy: 0.9846 - val_loss: 0.0220 - val_accuracy: 0.9912\n",
            "Epoch 54/100\n",
            "15/15 [==============================] - 0s 15ms/step - loss: 0.0154 - accuracy: 0.9934 - val_loss: 0.0230 - val_accuracy: 0.9912\n",
            "Epoch 55/100\n",
            "15/15 [==============================] - 0s 15ms/step - loss: 0.0247 - accuracy: 0.9912 - val_loss: 0.0248 - val_accuracy: 0.9912\n",
            "Epoch 56/100\n",
            "15/15 [==============================] - 0s 16ms/step - loss: 0.0204 - accuracy: 0.9912 - val_loss: 0.0544 - val_accuracy: 0.9737\n",
            "Epoch 57/100\n",
            "15/15 [==============================] - 0s 15ms/step - loss: 0.0135 - accuracy: 0.9956 - val_loss: 0.0179 - val_accuracy: 0.9912\n",
            "Epoch 58/100\n",
            "15/15 [==============================] - 0s 13ms/step - loss: 0.0194 - accuracy: 0.9934 - val_loss: 0.0326 - val_accuracy: 0.9912\n",
            "Epoch 59/100\n",
            "15/15 [==============================] - 0s 16ms/step - loss: 0.0212 - accuracy: 0.9934 - val_loss: 0.0227 - val_accuracy: 0.9912\n",
            "Epoch 60/100\n",
            "15/15 [==============================] - 0s 15ms/step - loss: 0.0163 - accuracy: 0.9956 - val_loss: 0.0303 - val_accuracy: 0.9912\n",
            "Epoch 61/100\n",
            "15/15 [==============================] - 0s 15ms/step - loss: 0.0125 - accuracy: 0.9934 - val_loss: 0.0250 - val_accuracy: 0.9912\n",
            "Epoch 62/100\n",
            "15/15 [==============================] - 0s 14ms/step - loss: 0.0108 - accuracy: 0.9956 - val_loss: 0.0261 - val_accuracy: 0.9912\n",
            "Epoch 63/100\n",
            "15/15 [==============================] - 0s 14ms/step - loss: 0.0089 - accuracy: 0.9978 - val_loss: 0.0190 - val_accuracy: 0.9912\n",
            "Epoch 64/100\n",
            "15/15 [==============================] - 0s 14ms/step - loss: 0.0095 - accuracy: 0.9956 - val_loss: 0.0269 - val_accuracy: 0.9912\n",
            "Epoch 65/100\n",
            "15/15 [==============================] - 0s 17ms/step - loss: 0.0132 - accuracy: 0.9934 - val_loss: 0.0293 - val_accuracy: 0.9912\n",
            "Epoch 66/100\n",
            "15/15 [==============================] - 0s 15ms/step - loss: 0.0065 - accuracy: 0.9978 - val_loss: 0.0372 - val_accuracy: 0.9737\n",
            "Epoch 67/100\n",
            "15/15 [==============================] - 0s 13ms/step - loss: 0.0056 - accuracy: 1.0000 - val_loss: 0.0238 - val_accuracy: 0.9912\n",
            "Epoch 68/100\n",
            "15/15 [==============================] - 0s 13ms/step - loss: 0.0049 - accuracy: 0.9978 - val_loss: 0.0378 - val_accuracy: 0.9737\n",
            "Epoch 69/100\n",
            "15/15 [==============================] - 0s 14ms/step - loss: 0.0078 - accuracy: 0.9956 - val_loss: 0.0316 - val_accuracy: 0.9912\n",
            "Epoch 70/100\n",
            "15/15 [==============================] - 0s 15ms/step - loss: 0.0149 - accuracy: 0.9978 - val_loss: 0.0372 - val_accuracy: 0.9912\n",
            "Epoch 71/100\n",
            "15/15 [==============================] - 0s 15ms/step - loss: 0.0079 - accuracy: 1.0000 - val_loss: 0.0220 - val_accuracy: 0.9912\n",
            "Epoch 72/100\n",
            "15/15 [==============================] - 0s 15ms/step - loss: 0.0087 - accuracy: 0.9956 - val_loss: 0.0480 - val_accuracy: 0.9737\n",
            "Epoch 73/100\n",
            "15/15 [==============================] - 0s 14ms/step - loss: 0.0121 - accuracy: 0.9934 - val_loss: 0.0245 - val_accuracy: 0.9825\n",
            "Epoch 74/100\n",
            "15/15 [==============================] - 0s 14ms/step - loss: 0.0083 - accuracy: 0.9978 - val_loss: 0.0282 - val_accuracy: 0.9825\n",
            "Epoch 75/100\n",
            "15/15 [==============================] - 0s 16ms/step - loss: 0.0050 - accuracy: 1.0000 - val_loss: 0.0267 - val_accuracy: 0.9825\n",
            "Epoch 76/100\n",
            "15/15 [==============================] - 0s 14ms/step - loss: 0.0106 - accuracy: 0.9956 - val_loss: 0.0319 - val_accuracy: 0.9825\n",
            "Epoch 77/100\n",
            "15/15 [==============================] - 0s 14ms/step - loss: 0.0036 - accuracy: 1.0000 - val_loss: 0.0258 - val_accuracy: 0.9912\n",
            "Epoch 78/100\n",
            "15/15 [==============================] - 0s 15ms/step - loss: 0.0059 - accuracy: 0.9978 - val_loss: 0.0283 - val_accuracy: 0.9912\n",
            "Epoch 79/100\n",
            "15/15 [==============================] - 0s 14ms/step - loss: 0.0035 - accuracy: 1.0000 - val_loss: 0.0264 - val_accuracy: 0.9912\n",
            "Epoch 80/100\n",
            "15/15 [==============================] - 0s 15ms/step - loss: 0.0028 - accuracy: 1.0000 - val_loss: 0.0178 - val_accuracy: 0.9912\n",
            "Epoch 81/100\n",
            "15/15 [==============================] - 0s 13ms/step - loss: 0.0085 - accuracy: 0.9934 - val_loss: 0.0534 - val_accuracy: 0.9737\n",
            "Epoch 82/100\n",
            "15/15 [==============================] - 0s 15ms/step - loss: 0.0087 - accuracy: 0.9978 - val_loss: 0.0211 - val_accuracy: 0.9912\n",
            "Epoch 83/100\n",
            "15/15 [==============================] - 0s 14ms/step - loss: 0.0037 - accuracy: 1.0000 - val_loss: 0.0159 - val_accuracy: 0.9912\n",
            "Epoch 84/100\n",
            "15/15 [==============================] - 0s 16ms/step - loss: 0.0038 - accuracy: 1.0000 - val_loss: 0.0346 - val_accuracy: 0.9825\n",
            "Epoch 85/100\n",
            "15/15 [==============================] - 0s 13ms/step - loss: 0.0041 - accuracy: 1.0000 - val_loss: 0.0280 - val_accuracy: 0.9825\n",
            "Epoch 86/100\n",
            "15/15 [==============================] - 0s 14ms/step - loss: 0.0032 - accuracy: 1.0000 - val_loss: 0.0326 - val_accuracy: 0.9825\n",
            "Epoch 87/100\n",
            "15/15 [==============================] - 0s 15ms/step - loss: 0.0038 - accuracy: 0.9978 - val_loss: 0.0370 - val_accuracy: 0.9825\n",
            "Epoch 88/100\n",
            "15/15 [==============================] - 0s 15ms/step - loss: 0.0048 - accuracy: 1.0000 - val_loss: 0.0205 - val_accuracy: 0.9825\n",
            "Epoch 89/100\n",
            "15/15 [==============================] - 0s 15ms/step - loss: 0.0041 - accuracy: 0.9978 - val_loss: 0.0468 - val_accuracy: 0.9825\n",
            "Epoch 90/100\n",
            "15/15 [==============================] - 0s 15ms/step - loss: 0.0059 - accuracy: 0.9978 - val_loss: 0.0422 - val_accuracy: 0.9737\n",
            "Epoch 91/100\n",
            "15/15 [==============================] - 0s 17ms/step - loss: 0.0028 - accuracy: 1.0000 - val_loss: 0.0399 - val_accuracy: 0.9737\n",
            "Epoch 92/100\n",
            "15/15 [==============================] - 0s 14ms/step - loss: 0.0035 - accuracy: 1.0000 - val_loss: 0.0285 - val_accuracy: 0.9912\n",
            "Epoch 93/100\n",
            "15/15 [==============================] - 0s 16ms/step - loss: 0.0038 - accuracy: 1.0000 - val_loss: 0.0310 - val_accuracy: 0.9825\n",
            "Epoch 94/100\n",
            "15/15 [==============================] - 0s 15ms/step - loss: 0.0037 - accuracy: 1.0000 - val_loss: 0.0561 - val_accuracy: 0.9825\n",
            "Epoch 95/100\n",
            "15/15 [==============================] - 0s 15ms/step - loss: 0.0136 - accuracy: 0.9978 - val_loss: 0.0412 - val_accuracy: 0.9825\n",
            "Epoch 96/100\n",
            "15/15 [==============================] - 0s 15ms/step - loss: 0.0079 - accuracy: 0.9956 - val_loss: 0.0243 - val_accuracy: 0.9912\n",
            "Epoch 97/100\n",
            "15/15 [==============================] - 0s 14ms/step - loss: 0.0110 - accuracy: 0.9956 - val_loss: 0.0536 - val_accuracy: 0.9825\n",
            "Epoch 98/100\n",
            "15/15 [==============================] - 0s 15ms/step - loss: 0.0083 - accuracy: 1.0000 - val_loss: 0.0290 - val_accuracy: 0.9737\n",
            "Epoch 99/100\n",
            "15/15 [==============================] - 0s 15ms/step - loss: 0.0040 - accuracy: 1.0000 - val_loss: 0.0171 - val_accuracy: 0.9912\n",
            "Epoch 100/100\n",
            "15/15 [==============================] - 0s 14ms/step - loss: 0.0052 - accuracy: 0.9978 - val_loss: 0.0416 - val_accuracy: 0.9737\n"
          ]
        }
      ]
    },
    {
      "cell_type": "code",
      "metadata": {
        "colab": {
          "base_uri": "https://localhost:8080/",
          "height": 590
        },
        "id": "koYeYmGU0FKK",
        "outputId": "1f32f8cf-ac1b-46d0-bc06-5e86822655f5"
      },
      "source": [
        "print(history.history.keys())\n",
        "# summarize history for accuracy\n",
        "plt.plot(history.history['accuracy'])\n",
        "plt.plot(history.history['val_accuracy'])\n",
        "plt.title('model accuracy')\n",
        "plt.ylabel('accuracy')\n",
        "plt.xlabel('epoch')\n",
        "plt.legend(['train', 'test'], loc='upper left')\n",
        "plt.show()\n",
        "# summarize history for loss\n",
        "plt.plot(history.history['loss'])\n",
        "plt.plot(history.history['val_loss'])\n",
        "plt.title('model loss')\n",
        "plt.ylabel('loss')\n",
        "plt.xlabel('epoch')\n",
        "plt.legend(['train', 'test'], loc='upper left')\n",
        "plt.show()"
      ],
      "id": "koYeYmGU0FKK",
      "execution_count": null,
      "outputs": [
        {
          "output_type": "stream",
          "name": "stdout",
          "text": [
            "dict_keys(['loss', 'accuracy', 'val_loss', 'val_accuracy'])\n"
          ]
        },
        {
          "output_type": "display_data",
          "data": {
            "image/png": "[encoded data removed]",
            "text/plain": [
              "<Figure size 432x288 with 1 Axes>"
            ]
          },
          "metadata": {
            "needs_background": "light"
          }
        },
        {
          "output_type": "display_data",
          "data": {
            "image/png": "[encoded data removed]",
            "text/plain": [
              "<Figure size 432x288 with 1 Axes>"
            ]
          },
          "metadata": {
            "needs_background": "light"
          }
        }
      ]
    },
    {
      "cell_type": "code",
      "metadata": {
        "colab": {
          "base_uri": "https://localhost:8080/"
        },
        "id": "97150b14",
        "outputId": "9f3947ea-c50d-4fcb-89b0-0a76cbbe02b7"
      },
      "source": [
        "model.evaluate(x_train, y_train)"
      ],
      "id": "97150b14",
      "execution_count": null,
      "outputs": [
        {
          "output_type": "stream",
          "name": "stdout",
          "text": [
            "15/15 [==============================] - 0s 2ms/step - loss: 0.0012 - accuracy: 1.0000\n"
          ]
        },
        {
          "output_type": "execute_result",
          "data": {
            "text/plain": [
              "[0.0011923779966309667, 1.0]"
            ]
          },
          "metadata": {},
          "execution_count": 246
        }
      ]
    },
    {
      "cell_type": "code",
      "metadata": {
        "colab": {
          "base_uri": "https://localhost:8080/"
        },
        "id": "bd573909",
        "outputId": "66acf17c-651d-4620-d157-7ee236fae750"
      },
      "source": [
        "# for index in range(10):\n",
        "print(model.predict(x_train[25].T)[0][0])\n",
        "if model.predict(x_train[25].T)[0][0] > 0.5:\n",
        "  print(\"B\")\n",
        "else:\n",
        "  print(\"M\")\n",
        "# print(model.predict(x_train[index].T))\n",
        "print(y_train[25])\n",
        "print(\"\")"
      ],
      "id": "bd573909",
      "execution_count": null,
      "outputs": [
        {
          "output_type": "stream",
          "name": "stdout",
          "text": [
            "1.0\n",
            "B\n",
            "1\n",
            "\n"
          ]
        }
      ]
    },
    {
      "cell_type": "code",
      "metadata": {
        "colab": {
          "base_uri": "https://localhost:8080/"
        },
        "id": "-sXSZsVzJaIp",
        "outputId": "2027bf08-193f-4e9f-9dae-262571cd93de"
      },
      "source": [
        "print(y_train)"
      ],
      "id": "-sXSZsVzJaIp",
      "execution_count": null,
      "outputs": [
        {
          "output_type": "stream",
          "name": "stdout",
          "text": [
            "453    0\n",
            "68     0\n",
            "178    0\n",
            "498    1\n",
            "81     0\n",
            "      ..\n",
            "25     1\n",
            "117    1\n",
            "559    0\n",
            "274    1\n",
            "296    0\n",
            "Name: diagnosis, Length: 455, dtype: int64\n"
          ]
        }
      ]
    },
    {
      "cell_type": "code",
      "metadata": {
        "colab": {
          "base_uri": "https://localhost:8080/",
          "height": 590
        },
        "id": "38K89CLUK42R",
        "outputId": "56a08964-45dd-4c36-a49c-59bbb3d6793f"
      },
      "source": [
        "import numpy as np\n",
        "import random\n",
        "from   tensorflow.keras.preprocessing.image import img_to_array, load_img\n",
        "\n",
        "# Let's define a new Model that will take an image as input, and will output\n",
        "# intermediate representations for all layers in the previous model after\n",
        "# the first.\n",
        "successive_outputs = [layer.output for layer in model.layers[1:]]\n",
        "\n",
        "#visualization_model = Model(img_input, successive_outputs)\n",
        "visualization_model = tf.keras.models.Model(inputs = model.input, outputs = successive_outputs)\n",
        "\n",
        "# Let's prepare a random input image of a cat or dog from the training set.\n",
        "# cat_img_files = [os.path.join(train_cats_dir, f) for f in train_cat_fnames]\n",
        "# dog_img_files = [os.path.join(train_dogs_dir, f) for f in train_dog_fnames]\n",
        "\n",
        "# img_path = random.choice(cat_img_files + dog_img_files)\n",
        "# img = load_img(img_path, target_size=(150, 150))  # this is a PIL image\n",
        "\n",
        "# x   = img_to_array(img)                           # Numpy array with shape (150, 150, 3)\n",
        "# x   = x.reshape((1,) + x.shape)                   # Numpy array with shape (1, 150, 150, 3)\n",
        "\n",
        "# Rescale by 1/255\n",
        "x = x_train[1].T\n",
        "\n",
        "# Let's run our image through our network, thus obtaining all\n",
        "# intermediate representations for this image.\n",
        "successive_feature_maps = visualization_model.predict(x)\n",
        "\n",
        "# These are the names of the layers, so can have them as part of our plot\n",
        "layer_names = [layer.name for layer in model.layers]\n",
        "\n",
        "# -----------------------------------------------------------------------\n",
        "# Now let's display our representations\n",
        "# -----------------------------------------------------------------------\n",
        "for layer_name, feature_map in zip(layer_names, successive_feature_maps):\n",
        "  print(len(feature_map.shape))\n",
        "  \n",
        "  if len(feature_map.shape) == 3:\n",
        "    print(\"dee\")\n",
        "    #-------------------------------------------\n",
        "    # Just do this for the conv / maxpool layers, not the fully-connected layers\n",
        "    #-------------------------------------------\n",
        "    n_features = feature_map.shape[-1]  # number of features in the feature map\n",
        "    size       = feature_map.shape[ 1]  # feature map shape (1, size, size, n_features)\n",
        "    \n",
        "    # We will tile our images in this matrix\n",
        "    display_grid = np.zeros((size, size * n_features))\n",
        "    \n",
        "    #-------------------------------------------------\n",
        "    # Postprocess the feature to be visually palatable\n",
        "    #-------------------------------------------------\n",
        "    for i in range(n_features):\n",
        "      # x  = feature_map[0, :, :, i]\n",
        "      x  = feature_map[0, :, i]\n",
        "      # x  = feature_map[0, i]\n",
        "      x -= x.mean()\n",
        "      x /= x.std ()\n",
        "      x *=  64\n",
        "      x += 128\n",
        "      x  = np.clip(x, 0, 255).astype('uint8')\n",
        "      display_grid[:, i * size : (i + 1) * size] = x # Tile each filter into a horizontal grid\n",
        "\n",
        "    #-----------------\n",
        "    # Display the grid\n",
        "    #-----------------\n",
        "\n",
        "    scale = 40. / n_features\n",
        "    plt.figure( figsize=(scale * n_features, scale) )\n",
        "    plt.title ( layer_name )\n",
        "    plt.grid  ( False )\n",
        "    plt.imshow( display_grid, aspect='auto', cmap='viridis' ) \n",
        "    plt.show()\n",
        "  # if len(feature_map.shape) == 2:\n",
        "  #   print(\"dee\")\n",
        "  #   #-------------------------------------------\n",
        "  #   # Just do this for the conv / maxpool layers, not the fully-connected layers\n",
        "  #   #-------------------------------------------\n",
        "  #   n_features = feature_map.shape[-1]  # number of features in the feature map\n",
        "  #   size       = feature_map.shape[ 1]  # feature map shape (1, size, size, n_features)\n",
        "    \n",
        "  #   # We will tile our images in this matrix\n",
        "  #   display_grid = np.zeros((size, size * n_features))\n",
        "    \n",
        "  #   #-------------------------------------------------\n",
        "  #   # Postprocess the feature to be visually palatable\n",
        "  #   #-------------------------------------------------\n",
        "  #   for i in range(n_features):\n",
        "  #     # x  = feature_map[0, :, :, i]\n",
        "  #     # x  = feature_map[0, :, i]\n",
        "  #     x  = feature_map[0, i]\n",
        "  #     x -= x.mean()\n",
        "  #     x /= x.std ()\n",
        "  #     x *=  64\n",
        "  #     x += 128\n",
        "  #     x  = np.clip(x, 0, 255).astype('uint8')\n",
        "  #     display_grid[:, i * size : (i + 1) * size] = x # Tile each filter into a horizontal grid\n",
        "\n",
        "  #   #-----------------\n",
        "  #   # Display the grid\n",
        "  #   #-----------------\n",
        "\n",
        "  #   scale = 20. / n_features\n",
        "  #   plt.figure( figsize=(scale * n_features, scale) )\n",
        "  #   plt.title ( layer_name )\n",
        "  #   plt.grid  ( False )\n",
        "  #   plt.imshow( display_grid, aspect='auto', cmap='viridis' ) \n",
        "  #   plt.show()"
      ],
      "id": "38K89CLUK42R",
      "execution_count": null,
      "outputs": [
        {
          "output_type": "stream",
          "name": "stdout",
          "text": [
            "3\n",
            "dee\n"
          ]
        },
        {
          "output_type": "display_data",
          "data": {
            "image/png": "[encoded data removed]",
            "text/plain": [
              "<Figure size 2880x180 with 1 Axes>"
            ]
          },
          "metadata": {
            "needs_background": "light"
          }
        },
        {
          "output_type": "stream",
          "name": "stdout",
          "text": [
            "3\n",
            "dee\n"
          ]
        },
        {
          "output_type": "display_data",
          "data": {
            "image/png": "[encoded data removed]",
            "text/plain": [
              "<Figure size 2880x180 with 1 Axes>"
            ]
          },
          "metadata": {
            "needs_background": "light"
          }
        },
        {
          "output_type": "stream",
          "name": "stdout",
          "text": [
            "3\n",
            "dee\n"
          ]
        },
        {
          "output_type": "display_data",
          "data": {
            "image/png": "[encoded data removed]",
            "text/plain": [
              "<Figure size 2880x180 with 1 Axes>"
            ]
          },
          "metadata": {
            "needs_background": "light"
          }
        },
        {
          "output_type": "stream",
          "name": "stdout",
          "text": [
            "2\n",
            "2\n",
            "2\n",
            "2\n"
          ]
        }
      ]
    },
    {
      "cell_type": "code",
      "metadata": {
        "id": "_s7XBMfuCun6"
      },
      "source": [
        ""
      ],
      "id": "_s7XBMfuCun6",
      "execution_count": null,
      "outputs": []
    }
  ]
}